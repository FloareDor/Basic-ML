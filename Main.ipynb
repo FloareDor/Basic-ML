{
 "cells": [
  {
   "cell_type": "code",
   "execution_count": 116,
   "id": "ab0d58e7",
   "metadata": {
    "scrolled": true
   },
   "outputs": [],
   "source": [
    "import pandas as pd\n",
    "from sklearn.tree import DecisionTreeClassifier\n",
    "from sklearn.model_selection import train_test_split\n",
    "from sklearn.metrics import accuracy_score\n",
    "import sklearn.externals\n",
    "import joblib\n",
    "from sklearn import tree\n",
    "music_data = pd.read_csv('music.csv')\n",
    "X = music_data.drop(columns = ['genre'])\n",
    "y = music_data['genre']\n",
    "X_train, X_test, y_train, y_test = train_test_split(X, y, test_size = 0.2)\n",
    "model = DecisionTreeClassifier()\n",
    "model.fit(X, y)\n",
    "# tree.export_graphviz(model, out_file = 'music-recommenderr.dot',\n",
    "# #                     feature_names = ['age', 'gender'],\n",
    "#                     class_names = sorted(y.unique()),\n",
    "#                     label = 'all',\n",
    "#                     rounded = True,\n",
    "#                     filled = True)\n",
    "# predictions = model.predict(X_test)\n",
    "joblib.dump(model, 'music-recommenderr.joblib')\n",
    "model = joblib.load('music-recommenderr.joblib')\n",
    "predictions = model.predict([X_test])\n",
    "score = accuracy_score(y_test, predictions) \n",
    "predictions\n"
   ]
  }
 ],
 "metadata": {
  "kernelspec": {
   "display_name": "Python 3",
   "language": "python",
   "name": "python3"
  },
  "language_info": {
   "codemirror_mode": {
    "name": "ipython",
    "version": 3
   },
   "file_extension": ".py",
   "mimetype": "text/x-python",
   "name": "python",
   "nbconvert_exporter": "python",
   "pygments_lexer": "ipython3",
   "version": "3.8.8"
  }
 },
 "nbformat": 4,
 "nbformat_minor": 5
}
